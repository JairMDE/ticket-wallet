{
 "cells": [
  {
   "cell_type": "code",
   "execution_count": 10,
   "id": "6b047e73-df15-472e-a92e-ab05210a7264",
   "metadata": {},
   "outputs": [],
   "source": [
    "import cv2\n",
    "import pytesseract\n",
    "from PIL import Image\n",
    "import numpy as np"
   ]
  },
  {
   "cell_type": "code",
   "execution_count": 3,
   "id": "f324cec6-674b-463e-8b59-b80ab745ee8a",
   "metadata": {},
   "outputs": [],
   "source": [
    "def mejorar_calidad_letras(nombre_imagen_entrada, nombre_imagen_salida):\n",
    "    # Cargar la imagen\n",
    "    imagen = cv2.imread(nombre_imagen_entrada, cv2.IMREAD_GRAYSCALE)\n",
    "\n",
    "    # Aplicar un filtro Gaussiano para suavizar la imagen\n",
    "    imagen_umbralizada = cv2.GaussianBlur(imagen, (5, 5), 0)\n",
    "\n",
    "    # Umbralizar la imagen para obtener una imagen binaria\n",
    "    #_, imagen_umbralizada = cv2.threshold(imagen_suavizada, 0, 255, cv2.THRESH_BINARY + cv2.THRESH_OTSU)\n",
    "\n",
    "    # Utilizar dilatación seguida de erosión para mejorar las letras\n",
    "    kernel = np.ones((1, 1), np.uint8)\n",
    "    imagen_umbralizada = cv2.dilate(imagen_umbralizada, kernel, iterations=1)\n",
    "    #imagen_mejorada = cv2.erode(imagen_umbralizada, kernel, iterations=1)\n",
    "\n",
    "    # Guardar la imagen mejorada\n",
    "    cv2.imwrite(nombre_imagen_salida, imagen_umbralizada)\n",
    "\n",
    "    return nombre_imagen_salida"
   ]
  },
  {
   "cell_type": "code",
   "execution_count": 4,
   "id": "59786ee9-7dc4-4c77-a1c7-142727d5179b",
   "metadata": {},
   "outputs": [],
   "source": [
    "def procesar_imagen(ruta_imagen):\n",
    "    # Cargar la imagen\n",
    "    imagen = Image.open(ruta_imagen)\n",
    "    # Convertir la imagen a escala de grises\n",
    "    imagen_gris = imagen.convert('L')\n",
    "    # Convertir la imagen a un array de numpy para procesarla\n",
    "    datos = np.array(imagen_gris)\n",
    "    \n",
    "    # Definir el umbral para los píxeles oscuros (ajusta este valor según necesites)\n",
    "    umbral_oscuro = 130  # Los píxeles con un valor menor a este se consideran oscuros\n",
    "\n",
    "    # Usar una operación vectorizada para establecer todos los píxeles fuera del rango a blanco\n",
    "    # y conservar los demás como están\n",
    "    datos_procesados = np.where(datos < umbral_oscuro, datos, 255)\n",
    "\n",
    "    # Convertir el array de vuelta a una imagen de Pillow\n",
    "    imagen_procesada = Image.fromarray(datos_procesados.astype('uint8'), 'L')\n",
    "\n",
    "    # Guardar la imagen procesada o retornarla\n",
    "    imagen_procesada.save('imagen_procesada.jpg')\n",
    "    # O retornarla si prefieres trabajar con ella directamente\n",
    "    # return imagen_procesada"
   ]
  },
  {
   "cell_type": "code",
   "execution_count": 15,
   "id": "e73deb70-ad0a-452e-94d9-c700a4e886fb",
   "metadata": {},
   "outputs": [],
   "source": [
    "procesar_imagen(\"images/0.jpg\")"
   ]
  },
  {
   "cell_type": "code",
   "execution_count": 16,
   "id": "fbac3283-ad3d-4696-b7bb-9e25300fc5e4",
   "metadata": {},
   "outputs": [
    {
     "data": {
      "text/plain": [
       "'img_mejorada.jpg'"
      ]
     },
     "execution_count": 16,
     "metadata": {},
     "output_type": "execute_result"
    }
   ],
   "source": [
    "mejorar_calidad_letras('imagen_procesada.jpg', 'img_mejorada.jpg')"
   ]
  },
  {
   "cell_type": "code",
   "execution_count": 17,
   "id": "5128cb2d-e694-4bd3-896c-4b09b4d3aa7d",
   "metadata": {},
   "outputs": [],
   "source": [
    "ocrimage = cv2.imread(\"img_mejorada.jpg\")"
   ]
  },
  {
   "cell_type": "code",
   "execution_count": 19,
   "id": "9cc5efe5-c0af-47c9-a953-0f13640cfb31",
   "metadata": {},
   "outputs": [
    {
     "name": "stdout",
     "output_type": "stream",
     "text": [
      "WAL*MART\n",
      "ALWAYS LOW PRICES.\n",
      "Alay?\n",
      "SUPERCENTER\n",
      "OPEN 24 a\n",
      "\n",
      "MANAGER .\n",
      "( 515 ) 986 - 1783\n",
      "ST# 5748 OP# 00000158 TE# 14 TR# 03178\n",
      "00000000401 1KF\n",
      "\n",
      "0.41 Ib @ 1 Ib /0.49\n",
      "FRAP 001200010451 F\n",
      "\n"
     ]
    }
   ],
   "source": [
    "print(pytesseract.image_to_string(ocrimage))"
   ]
  },
  {
   "cell_type": "code",
   "execution_count": 13,
   "id": "cd9ec821-cc28-4938-b5d1-06e44850014e",
   "metadata": {},
   "outputs": [],
   "source": [
    "ocrimage = cv2.imread(\"imagen_procesada.jpg\")"
   ]
  },
  {
   "cell_type": "code",
   "execution_count": 14,
   "id": "f5114ca3-c02c-486e-ad43-49ac28c7b958",
   "metadata": {},
   "outputs": [
    {
     "name": "stdout",
     "output_type": "stream",
     "text": [
      "es\n",
      "WAL*MART\n",
      "ALWAYS LOW PRICES.\n",
      "SUPERCENTER\n",
      "OPEN 24 HOURS\n",
      "(515 ) 986 - 1783\n",
      "ST# 5748 OP# 00000158 Tey 14 TR# 03178\n",
      "\n",
      "Banal Ib t annie!\n",
      "FRAP 200010451 F\n",
      "\n",
      "zz\n",
      "\n",
      "S8n29 88\n",
      "\n"
     ]
    }
   ],
   "source": [
    "print(pytesseract.image_to_string(ocrimage))"
   ]
  },
  {
   "cell_type": "code",
   "execution_count": null,
   "id": "166ae354-56f1-4476-af1a-80e33fe23f9d",
   "metadata": {},
   "outputs": [],
   "source": []
  }
 ],
 "metadata": {
  "kernelspec": {
   "display_name": "Python 3 (ipykernel)",
   "language": "python",
   "name": "python3"
  },
  "language_info": {
   "codemirror_mode": {
    "name": "ipython",
    "version": 3
   },
   "file_extension": ".py",
   "mimetype": "text/x-python",
   "name": "python",
   "nbconvert_exporter": "python",
   "pygments_lexer": "ipython3",
   "version": "3.12.1"
  }
 },
 "nbformat": 4,
 "nbformat_minor": 5
}
